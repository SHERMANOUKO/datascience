{
 "cells": [
  {
   "cell_type": "code",
   "execution_count": 1,
   "metadata": {},
   "outputs": [],
   "source": [
    "from sklearn.datasets import load_iris\n",
    "from sklearn.model_selection import train_test_split\n",
    "from sklearn.neighbors import KNeighborsClassifier\n",
    "from sklearn import metrics"
   ]
  },
  {
   "cell_type": "code",
   "execution_count": 4,
   "metadata": {},
   "outputs": [
    {
     "name": "stdout",
     "output_type": "stream",
     "text": [
      "0.9736842105263158\n"
     ]
    }
   ],
   "source": [
    "# read iris dataset \n",
    "iris = load_iris()\n",
    "\n",
    "# create X (features) and y (response)\n",
    "X = iris.data\n",
    "y = iris.target\n",
    "\n",
    "# apply train test split\n",
    "X_train, X_test, y_train, y_test = train_test_split(X, y, random_state=4)\n",
    "\n",
    "# check classification accuracy of KNN with k=5\n",
    "knn = KNeighborsClassifier(n_neighbors=5)\n",
    "knn.fit(X_train, y_train)\n",
    "y_pred = knn.predict(X_test)\n",
    "print(metrics.accuracy_score(y_test, y_pred))"
   ]
  },
  {
   "cell_type": "code",
   "execution_count": 5,
   "metadata": {},
   "outputs": [
    {
     "name": "stdout",
     "output_type": "stream",
     "text": [
      "1.0\n"
     ]
    }
   ],
   "source": [
    "# Changing the random state to 2\n",
    "# apply train test split\n",
    "X_train, X_test, y_train, y_test = train_test_split(X, y, random_state=2)\n",
    "\n",
    "# check classification accuracy of KNN with k=5\n",
    "knn = KNeighborsClassifier(n_neighbors=5)\n",
    "knn.fit(X_train, y_train)\n",
    "y_pred = knn.predict(X_test)\n",
    "print(metrics.accuracy_score(y_test, y_pred))\n"
   ]
  },
  {
   "cell_type": "code",
   "execution_count": 6,
   "metadata": {},
   "outputs": [
    {
     "name": "stdout",
     "output_type": "stream",
     "text": [
      "0.9473684210526315\n"
     ]
    }
   ],
   "source": [
    "# changing the random state to 5\n",
    "# apply train test split\n",
    "X_train, X_test, y_train, y_test = train_test_split(X, y, random_state=5)\n",
    "\n",
    "# check classification accuracy of KNN with k=5\n",
    "knn = KNeighborsClassifier(n_neighbors=5)\n",
    "knn.fit(X_train, y_train)\n",
    "y_pred = knn.predict(X_test)\n",
    "print(metrics.accuracy_score(y_test, y_pred))"
   ]
  },
  {
   "cell_type": "markdown",
   "metadata": {},
   "source": [
    "The accuracy keeps shifting. This is why testing accuracy is known as a high variance estimate"
   ]
  },
  {
   "cell_type": "markdown",
   "metadata": {},
   "source": [
    "## K-FOLD CROSS VALIDATION\n",
    "\n",
    "Using cross validation to select best tuning parameters for KNN"
   ]
  },
  {
   "cell_type": "code",
   "execution_count": 20,
   "metadata": {},
   "outputs": [
    {
     "name": "stdout",
     "output_type": "stream",
     "text": [
      "[1.         0.93333333 1.         1.         0.86666667 0.93333333\n",
      " 0.93333333 1.         1.         1.        ]\n",
      "0.9666666666666668\n"
     ]
    }
   ],
   "source": [
    "from sklearn.model_selection import KFold\n",
    "from sklearn.model_selection import cross_val_score\n",
    "\n",
    "# 10 fold cross validation with k=5 for KNN\n",
    "knn = KNeighborsClassifier(n_neighbors=5)\n",
    "scores = cross_val_score(knn, X, y, cv=10, scoring='accuracy')\n",
    "print(scores)\n",
    "\n",
    "# find avearage accuracy as an estimate of the out of sample accuracy\n",
    "print(scores.mean())"
   ]
  },
  {
   "cell_type": "code",
   "execution_count": 21,
   "metadata": {},
   "outputs": [
    {
     "name": "stdout",
     "output_type": "stream",
     "text": [
      "[0.96, 0.9533333333333334, 0.9666666666666666, 0.9666666666666666, 0.9666666666666668, 0.9666666666666668, 0.9666666666666668, 0.9666666666666668, 0.9733333333333334, 0.9666666666666668, 0.9666666666666668, 0.9733333333333334, 0.9800000000000001, 0.9733333333333334, 0.9733333333333334, 0.9733333333333334, 0.9733333333333334, 0.9800000000000001, 0.9733333333333334, 0.9800000000000001, 0.9666666666666666, 0.9666666666666666, 0.9733333333333334, 0.96, 0.9666666666666666, 0.96, 0.9666666666666666, 0.9533333333333334, 0.9533333333333334, 0.9533333333333334]\n"
     ]
    }
   ],
   "source": [
    "# search for optimal value of K for knn\n",
    "k_range = range(1, 31)\n",
    "k_scores = []\n",
    "for k in k_range:\n",
    "    knn = KNeighborsClassifier(n_neighbors=k)\n",
    "    scores = cross_val_score(knn, X, y, cv=10, scoring='accuracy')\n",
    "    k_scores.append(scores.mean())\n",
    "    \n",
    "print(k_scores)"
   ]
  },
  {
   "cell_type": "code",
   "execution_count": 23,
   "metadata": {},
   "outputs": [
    {
     "data": {
      "text/plain": [
       "Text(0, 0.5, 'Cross validated accuracy')"
      ]
     },
     "execution_count": 23,
     "metadata": {},
     "output_type": "execute_result"
    },
    {
     "data": {
      "image/png": "[encoded data removed]",
      "text/plain": [
       "<Figure size 432x288 with 1 Axes>"
      ]
     },
     "metadata": {
      "needs_background": "light"
     },
     "output_type": "display_data"
    }
   ],
   "source": [
    "# visualize with matplotlib\n",
    "import matplotlib.pyplot as plt\n",
    "%matplotlib inline\n",
    "\n",
    "plt.plot(k_range, k_scores)\n",
    "plt.xlabel('Value of K for KNN')\n",
    "plt.ylabel('Cross validated accuracy')\n",
    "\n",
    "# from graph below, seemingly our best value of K would be 20"
   ]
  },
  {
   "cell_type": "markdown",
   "metadata": {},
   "source": [
    "## Cross-Validation Model Selection\n",
    "\n",
    "Comparing best KNN Model with logistic regression on the iris dataset"
   ]
  },
  {
   "cell_type": "code",
   "execution_count": 24,
   "metadata": {},
   "outputs": [
    {
     "name": "stdout",
     "output_type": "stream",
     "text": [
      "0.9800000000000001\n"
     ]
    }
   ],
   "source": [
    "# 10 fold cross validation with best KNN model\n",
    "knn = KNeighborsClassifier(n_neighbors=20)\n",
    "print(cross_val_score(knn, X, y, cv=10, scoring='accuracy').mean())"
   ]
  },
  {
   "cell_type": "code",
   "execution_count": 36,
   "metadata": {},
   "outputs": [
    {
     "name": "stdout",
     "output_type": "stream",
     "text": [
      "0.9533333333333334\n"
     ]
    }
   ],
   "source": [
    "# 10 fold cross validation with logistic regression\n",
    "from sklearn.linear_model import LogisticRegression\n",
    "log_reg = LogisticRegression(solver='liblinear', multi_class='auto')\n",
    "print(cross_val_score(log_reg, X, y, cv=10, scoring='accuracy').mean())"
   ]
  },
  {
   "cell_type": "markdown",
   "metadata": {},
   "source": [
    "## Fearure Selection With Cross-Validation\n",
    "\n",
    "\n",
    "Goal: Select whether feature selection should be included in linear regression model or not"
   ]
  },
  {
   "cell_type": "code",
   "execution_count": 53,
   "metadata": {},
   "outputs": [
    {
     "name": "stdout",
     "output_type": "stream",
     "text": [
      "1.6913531708051797\n"
     ]
    }
   ],
   "source": [
    "import pandas as pd\n",
    "import numpy as np\n",
    "from sklearn.linear_model import LinearRegression\n",
    "\n",
    "# read dataset\n",
    "df = pd.read_csv('Advertising.csv', index_col=0)\n",
    "\n",
    "# create list of feature items\n",
    "feature_cols = ['TV', 'radio', 'newspaper']\n",
    "\n",
    "# select subset of dataframe using list\n",
    "X = df[feature_cols]\n",
    "\n",
    "# set sales as the response (y)\n",
    "y = df.sales\n",
    "\n",
    "# 10 fold cross validation with all three features\n",
    "all_features = LinearRegression()\n",
    "mse_scores = -cross_val_score(all_features, X, y, cv=10, scoring='neg_mean_squared_error')\n",
    "\n",
    "# Convert MSE to RMSE\n",
    "rmse_scores = np.sqrt(mse_scores)\n",
    "\n",
    "# calculate average RMSE\n",
    "print(rmse_scores.mean())"
   ]
  },
  {
   "cell_type": "code",
   "execution_count": 54,
   "metadata": {},
   "outputs": [
    {
     "name": "stdout",
     "output_type": "stream",
     "text": [
      "1.6796748419090768\n"
     ]
    }
   ],
   "source": [
    "# 10 fold cross validation excluding newspaper\n",
    "feature_cols = ['TV', 'radio']\n",
    "X = df[feature_cols]\n",
    "mse_scores = -cross_val_score(all_features, X, y, cv=10, scoring='neg_mean_squared_error')\n",
    "rmse_scores = np.sqrt(mse_scores)\n",
    "print(rmse_scores.mean())"
   ]
  },
  {
   "cell_type": "markdown",
   "metadata": {},
   "source": [
    "## More Efficient Parameter Tuning With Grid Search CV\n",
    "\n",
    "Allows you to define a grid of parameters that will be searched using K-Fold cross-validation"
   ]
  },
  {
   "cell_type": "code",
   "execution_count": 72,
   "metadata": {
    "scrolled": false
   },
   "outputs": [
    {
     "name": "stderr",
     "output_type": "stream",
     "text": [
      "/home/namrehs/anaconda3/lib/python3.6/site-packages/sklearn/utils/deprecation.py:125: FutureWarning: You are accessing a training score ('split0_train_score'), which will not be available by default any more in 0.21. If you need training scores, please set return_train_score=True\n",
      "  warnings.warn(*warn_args, **warn_kwargs)\n",
      "/home/namrehs/anaconda3/lib/python3.6/site-packages/sklearn/utils/deprecation.py:125: FutureWarning: You are accessing a training score ('split1_train_score'), which will not be available by default any more in 0.21. If you need training scores, please set return_train_score=True\n",
      "  warnings.warn(*warn_args, **warn_kwargs)\n",
      "/home/namrehs/anaconda3/lib/python3.6/site-packages/sklearn/utils/deprecation.py:125: FutureWarning: You are accessing a training score ('split2_train_score'), which will not be available by default any more in 0.21. If you need training scores, please set return_train_score=True\n",
      "  warnings.warn(*warn_args, **warn_kwargs)\n",
      "/home/namrehs/anaconda3/lib/python3.6/site-packages/sklearn/utils/deprecation.py:125: FutureWarning: You are accessing a training score ('split3_train_score'), which will not be available by default any more in 0.21. If you need training scores, please set return_train_score=True\n",
      "  warnings.warn(*warn_args, **warn_kwargs)\n",
      "/home/namrehs/anaconda3/lib/python3.6/site-packages/sklearn/utils/deprecation.py:125: FutureWarning: You are accessing a training score ('split4_train_score'), which will not be available by default any more in 0.21. If you need training scores, please set return_train_score=True\n",
      "  warnings.warn(*warn_args, **warn_kwargs)\n",
      "/home/namrehs/anaconda3/lib/python3.6/site-packages/sklearn/utils/deprecation.py:125: FutureWarning: You are accessing a training score ('split5_train_score'), which will not be available by default any more in 0.21. If you need training scores, please set return_train_score=True\n",
      "  warnings.warn(*warn_args, **warn_kwargs)\n",
      "/home/namrehs/anaconda3/lib/python3.6/site-packages/sklearn/utils/deprecation.py:125: FutureWarning: You are accessing a training score ('split6_train_score'), which will not be available by default any more in 0.21. If you need training scores, please set return_train_score=True\n",
      "  warnings.warn(*warn_args, **warn_kwargs)\n",
      "/home/namrehs/anaconda3/lib/python3.6/site-packages/sklearn/utils/deprecation.py:125: FutureWarning: You are accessing a training score ('split7_train_score'), which will not be available by default any more in 0.21. If you need training scores, please set return_train_score=True\n",
      "  warnings.warn(*warn_args, **warn_kwargs)\n",
      "/home/namrehs/anaconda3/lib/python3.6/site-packages/sklearn/utils/deprecation.py:125: FutureWarning: You are accessing a training score ('split8_train_score'), which will not be available by default any more in 0.21. If you need training scores, please set return_train_score=True\n",
      "  warnings.warn(*warn_args, **warn_kwargs)\n",
      "/home/namrehs/anaconda3/lib/python3.6/site-packages/sklearn/utils/deprecation.py:125: FutureWarning: You are accessing a training score ('split9_train_score'), which will not be available by default any more in 0.21. If you need training scores, please set return_train_score=True\n",
      "  warnings.warn(*warn_args, **warn_kwargs)\n",
      "/home/namrehs/anaconda3/lib/python3.6/site-packages/sklearn/utils/deprecation.py:125: FutureWarning: You are accessing a training score ('mean_train_score'), which will not be available by default any more in 0.21. If you need training scores, please set return_train_score=True\n",
      "  warnings.warn(*warn_args, **warn_kwargs)\n",
      "/home/namrehs/anaconda3/lib/python3.6/site-packages/sklearn/utils/deprecation.py:125: FutureWarning: You are accessing a training score ('std_train_score'), which will not be available by default any more in 0.21. If you need training scores, please set return_train_score=True\n",
      "  warnings.warn(*warn_args, **warn_kwargs)\n"
     ]
    },
    {
     "data": {
      "text/plain": [
       "{'mean_fit_time': array([0.00040727, 0.00029495, 0.00028193, 0.0002799 , 0.00028002,\n",
       "        0.00029538, 0.00035648, 0.00034027, 0.00033247, 0.00031934,\n",
       "        0.00027862, 0.00027859, 0.00028284, 0.00029435, 0.00029337,\n",
       "        0.00029001, 0.00030422, 0.00030055, 0.0003206 , 0.00029764,\n",
       "        0.00033014, 0.00032055, 0.00032117, 0.00031457, 0.00030239,\n",
       "        0.00033734, 0.00031641, 0.00030859, 0.00029411, 0.00028944]),\n",
       " 'std_fit_time': array([7.97194724e-05, 1.34559568e-05, 7.14639557e-06, 6.53632264e-06,\n",
       "        4.47598737e-06, 1.99633245e-05, 3.88598588e-05, 4.78455420e-05,\n",
       "        4.45448923e-05, 3.63560113e-05, 2.33406796e-06, 1.77217349e-06,\n",
       "        9.70457340e-06, 1.68897983e-05, 1.56799872e-05, 1.26870051e-05,\n",
       "        1.65442567e-05, 1.87970635e-05, 3.49850406e-05, 1.00091516e-05,\n",
       "        5.49564961e-05, 4.27003948e-05, 3.25930406e-05, 2.26161607e-05,\n",
       "        1.79201501e-05, 4.37523038e-05, 4.09704760e-05, 4.68509252e-05,\n",
       "        1.61746229e-05, 1.42701038e-05]),\n",
       " 'mean_score_time': array([0.00107968, 0.00085585, 0.00083704, 0.0008338 , 0.00083764,\n",
       "        0.00087383, 0.00106318, 0.00097232, 0.0009614 , 0.00093484,\n",
       "        0.00085773, 0.00085456, 0.00086343, 0.00089617, 0.00092657,\n",
       "        0.00092683, 0.00097816, 0.00090289, 0.00093799, 0.00095937,\n",
       "        0.00096338, 0.00098038, 0.00101845, 0.00093484, 0.0009212 ,\n",
       "        0.00094576, 0.00096698, 0.00094812, 0.00091317, 0.00091796]),\n",
       " 'std_score_time': array([1.83015892e-04, 2.76014276e-05, 1.18720962e-05, 1.01392669e-05,\n",
       "        1.10220834e-05, 7.56374403e-05, 1.51793830e-04, 5.63545876e-05,\n",
       "        1.00717400e-04, 7.37734276e-05, 1.95294362e-05, 1.07495056e-05,\n",
       "        1.35060495e-05, 5.12957781e-05, 5.25342828e-05, 5.16227924e-05,\n",
       "        9.65190173e-05, 3.68430383e-05, 7.78406392e-05, 8.34161465e-05,\n",
       "        9.06142454e-05, 1.06872548e-04, 1.07048405e-04, 3.20387025e-05,\n",
       "        3.98345721e-05, 6.29171949e-05, 4.21238874e-05, 3.65739152e-05,\n",
       "        3.04213979e-05, 3.15876816e-05]),\n",
       " 'param_n_neighbors': masked_array(data=[1, 2, 3, 4, 5, 6, 7, 8, 9, 10, 11, 12, 13, 14, 15, 16,\n",
       "                    17, 18, 19, 20, 21, 22, 23, 24, 25, 26, 27, 28, 29, 30],\n",
       "              mask=[False, False, False, False, False, False, False, False,\n",
       "                    False, False, False, False, False, False, False, False,\n",
       "                    False, False, False, False, False, False, False, False,\n",
       "                    False, False, False, False, False, False],\n",
       "        fill_value='?',\n",
       "             dtype=object),\n",
       " 'params': [{'n_neighbors': 1},\n",
       "  {'n_neighbors': 2},\n",
       "  {'n_neighbors': 3},\n",
       "  {'n_neighbors': 4},\n",
       "  {'n_neighbors': 5},\n",
       "  {'n_neighbors': 6},\n",
       "  {'n_neighbors': 7},\n",
       "  {'n_neighbors': 8},\n",
       "  {'n_neighbors': 9},\n",
       "  {'n_neighbors': 10},\n",
       "  {'n_neighbors': 11},\n",
       "  {'n_neighbors': 12},\n",
       "  {'n_neighbors': 13},\n",
       "  {'n_neighbors': 14},\n",
       "  {'n_neighbors': 15},\n",
       "  {'n_neighbors': 16},\n",
       "  {'n_neighbors': 17},\n",
       "  {'n_neighbors': 18},\n",
       "  {'n_neighbors': 19},\n",
       "  {'n_neighbors': 20},\n",
       "  {'n_neighbors': 21},\n",
       "  {'n_neighbors': 22},\n",
       "  {'n_neighbors': 23},\n",
       "  {'n_neighbors': 24},\n",
       "  {'n_neighbors': 25},\n",
       "  {'n_neighbors': 26},\n",
       "  {'n_neighbors': 27},\n",
       "  {'n_neighbors': 28},\n",
       "  {'n_neighbors': 29},\n",
       "  {'n_neighbors': 30}],\n",
       " 'split0_test_score': array([1.        , 1.        , 1.        , 1.        , 1.        ,\n",
       "        1.        , 1.        , 1.        , 1.        , 1.        ,\n",
       "        1.        , 1.        , 1.        , 1.        , 0.93333333,\n",
       "        1.        , 0.93333333, 1.        , 0.93333333, 1.        ,\n",
       "        0.93333333, 0.93333333, 0.93333333, 0.93333333, 0.93333333,\n",
       "        0.93333333, 0.93333333, 0.93333333, 0.93333333, 0.93333333]),\n",
       " 'split1_test_score': array([0.93333333, 0.93333333, 0.93333333, 0.93333333, 0.93333333,\n",
       "        0.93333333, 0.93333333, 0.93333333, 0.93333333, 0.93333333,\n",
       "        0.93333333, 0.93333333, 0.93333333, 0.93333333, 0.93333333,\n",
       "        0.93333333, 0.93333333, 0.93333333, 0.93333333, 0.93333333,\n",
       "        0.93333333, 0.93333333, 0.93333333, 0.93333333, 0.93333333,\n",
       "        0.93333333, 0.93333333, 0.93333333, 0.93333333, 0.93333333]),\n",
       " 'split2_test_score': array([1., 1., 1., 1., 1., 1., 1., 1., 1., 1., 1., 1., 1., 1., 1., 1., 1.,\n",
       "        1., 1., 1., 1., 1., 1., 1., 1., 1., 1., 1., 1., 1.]),\n",
       " 'split3_test_score': array([0.93333333, 0.93333333, 0.93333333, 0.93333333, 1.        ,\n",
       "        1.        , 1.        , 1.        , 1.        , 1.        ,\n",
       "        1.        , 1.        , 1.        , 1.        , 1.        ,\n",
       "        1.        , 1.        , 1.        , 1.        , 1.        ,\n",
       "        1.        , 1.        , 1.        , 1.        , 1.        ,\n",
       "        1.        , 1.        , 0.93333333, 0.93333333, 0.93333333]),\n",
       " 'split4_test_score': array([0.86666667, 0.86666667, 0.86666667, 0.86666667, 0.86666667,\n",
       "        0.86666667, 0.86666667, 1.        , 1.        , 1.        ,\n",
       "        1.        , 1.        , 1.        , 1.        , 1.        ,\n",
       "        1.        , 1.        , 1.        , 1.        , 1.        ,\n",
       "        0.93333333, 1.        , 1.        , 1.        , 1.        ,\n",
       "        1.        , 1.        , 1.        , 1.        , 1.        ]),\n",
       " 'split5_test_score': array([1.        , 1.        , 1.        , 1.        , 0.93333333,\n",
       "        0.93333333, 0.93333333, 0.86666667, 0.93333333, 0.86666667,\n",
       "        0.86666667, 0.93333333, 0.93333333, 0.86666667, 0.93333333,\n",
       "        0.93333333, 0.93333333, 0.93333333, 0.93333333, 0.93333333,\n",
       "        0.93333333, 0.93333333, 0.93333333, 0.86666667, 0.93333333,\n",
       "        0.86666667, 0.86666667, 0.86666667, 0.86666667, 0.86666667]),\n",
       " 'split6_test_score': array([0.86666667, 0.86666667, 0.93333333, 0.93333333, 0.93333333,\n",
       "        0.93333333, 0.93333333, 0.93333333, 0.93333333, 0.93333333,\n",
       "        0.93333333, 0.93333333, 0.93333333, 0.93333333, 0.93333333,\n",
       "        0.93333333, 0.93333333, 0.93333333, 0.93333333, 0.93333333,\n",
       "        0.93333333, 0.93333333, 0.93333333, 0.93333333, 0.93333333,\n",
       "        0.93333333, 0.93333333, 0.93333333, 0.93333333, 0.93333333]),\n",
       " 'split7_test_score': array([1.        , 0.93333333, 1.        , 1.        , 1.        ,\n",
       "        1.        , 1.        , 0.93333333, 0.93333333, 0.93333333,\n",
       "        0.93333333, 0.93333333, 1.        , 1.        , 1.        ,\n",
       "        0.93333333, 1.        , 1.        , 1.        , 1.        ,\n",
       "        1.        , 0.93333333, 1.        , 0.93333333, 0.93333333,\n",
       "        0.93333333, 1.        , 0.93333333, 0.93333333, 0.93333333]),\n",
       " 'split8_test_score': array([1., 1., 1., 1., 1., 1., 1., 1., 1., 1., 1., 1., 1., 1., 1., 1., 1.,\n",
       "        1., 1., 1., 1., 1., 1., 1., 1., 1., 1., 1., 1., 1.]),\n",
       " 'split9_test_score': array([1., 1., 1., 1., 1., 1., 1., 1., 1., 1., 1., 1., 1., 1., 1., 1., 1.,\n",
       "        1., 1., 1., 1., 1., 1., 1., 1., 1., 1., 1., 1., 1.]),\n",
       " 'mean_test_score': array([0.96      , 0.95333333, 0.96666667, 0.96666667, 0.96666667,\n",
       "        0.96666667, 0.96666667, 0.96666667, 0.97333333, 0.96666667,\n",
       "        0.96666667, 0.97333333, 0.98      , 0.97333333, 0.97333333,\n",
       "        0.97333333, 0.97333333, 0.98      , 0.97333333, 0.98      ,\n",
       "        0.96666667, 0.96666667, 0.97333333, 0.96      , 0.96666667,\n",
       "        0.96      , 0.96666667, 0.95333333, 0.95333333, 0.95333333]),\n",
       " 'std_test_score': array([0.05333333, 0.05206833, 0.04472136, 0.04472136, 0.04472136,\n",
       "        0.04472136, 0.04472136, 0.04472136, 0.03265986, 0.04472136,\n",
       "        0.04472136, 0.03265986, 0.0305505 , 0.04422166, 0.03265986,\n",
       "        0.03265986, 0.03265986, 0.0305505 , 0.03265986, 0.0305505 ,\n",
       "        0.03333333, 0.03333333, 0.03265986, 0.04422166, 0.03333333,\n",
       "        0.04422166, 0.04472136, 0.04268749, 0.04268749, 0.04268749]),\n",
       " 'rank_test_score': array([24, 27, 12, 12, 12, 12, 12, 12,  4, 12, 12,  4,  1,  4,  4,  4,  4,\n",
       "         1,  4,  1, 12, 12,  4, 24, 12, 24, 12, 27, 27, 27], dtype=int32),\n",
       " 'split0_train_score': array([1.        , 0.97037037, 0.95555556, 0.95555556, 0.96296296,\n",
       "        0.97037037, 0.96296296, 0.97037037, 0.97037037, 0.97037037,\n",
       "        0.97037037, 0.97037037, 0.97777778, 0.97037037, 0.97777778,\n",
       "        0.97037037, 0.97777778, 0.97777778, 0.97777778, 0.97777778,\n",
       "        0.97777778, 0.97777778, 0.97777778, 0.97037037, 0.97777778,\n",
       "        0.96296296, 0.96296296, 0.94814815, 0.95555556, 0.94814815]),\n",
       " 'split1_train_score': array([1.        , 0.98518519, 0.96296296, 0.96296296, 0.97037037,\n",
       "        0.97037037, 0.97777778, 0.98518519, 0.98518519, 0.98518519,\n",
       "        0.98518519, 0.99259259, 0.97777778, 0.97777778, 0.97777778,\n",
       "        0.98518519, 0.98518519, 0.98518519, 0.98518519, 0.98518519,\n",
       "        0.98518519, 0.98518519, 0.97037037, 0.97777778, 0.97777778,\n",
       "        0.98518519, 0.97777778, 0.97777778, 0.97777778, 0.95555556]),\n",
       " 'split2_train_score': array([1.        , 0.97777778, 0.95555556, 0.95555556, 0.96296296,\n",
       "        0.97037037, 0.97037037, 0.97777778, 0.97777778, 0.97777778,\n",
       "        0.98518519, 0.98518519, 0.97777778, 0.98518519, 0.97777778,\n",
       "        0.98518519, 0.97777778, 0.97777778, 0.97777778, 0.96296296,\n",
       "        0.97037037, 0.95555556, 0.96296296, 0.94814815, 0.94814815,\n",
       "        0.93333333, 0.94074074, 0.94814815, 0.95555556, 0.94814815]),\n",
       " 'split3_train_score': array([1.        , 0.98518519, 0.96296296, 0.96296296, 0.97037037,\n",
       "        0.97777778, 0.97037037, 0.98518519, 0.98518519, 0.97777778,\n",
       "        0.97777778, 0.97777778, 0.97777778, 0.97777778, 0.97777778,\n",
       "        0.98518519, 0.97777778, 0.97777778, 0.97777778, 0.97777778,\n",
       "        0.97777778, 0.97777778, 0.97777778, 0.97777778, 0.97037037,\n",
       "        0.96296296, 0.97037037, 0.96296296, 0.97037037, 0.94814815]),\n",
       " 'split4_train_score': array([1.        , 0.97777778, 0.97777778, 0.97777778, 0.98518519,\n",
       "        0.98518519, 0.98518519, 0.97777778, 0.97777778, 0.97777778,\n",
       "        0.98518519, 0.97777778, 0.98518519, 0.97777778, 0.97777778,\n",
       "        0.97777778, 0.97777778, 0.97777778, 0.97777778, 0.97777778,\n",
       "        0.97777778, 0.97037037, 0.97777778, 0.97037037, 0.97037037,\n",
       "        0.95555556, 0.94814815, 0.94814815, 0.94814815, 0.94814815]),\n",
       " 'split5_train_score': array([1.        , 0.97037037, 0.95555556, 0.96296296, 0.96296296,\n",
       "        0.95555556, 0.97037037, 0.97037037, 0.97777778, 0.97037037,\n",
       "        0.98518519, 0.97777778, 0.98518519, 0.97777778, 0.97777778,\n",
       "        0.97777778, 0.98518519, 0.98518519, 0.97777778, 0.97777778,\n",
       "        0.97777778, 0.97777778, 0.97777778, 0.97777778, 0.97777778,\n",
       "        0.96296296, 0.97037037, 0.96296296, 0.96296296, 0.96296296]),\n",
       " 'split6_train_score': array([1.        , 0.98518519, 0.97037037, 0.97037037, 0.97777778,\n",
       "        0.98518519, 0.97777778, 0.99259259, 0.99259259, 0.98518519,\n",
       "        0.99259259, 0.98518519, 0.99259259, 0.99259259, 0.98518519,\n",
       "        0.98518519, 0.97777778, 0.98518519, 0.98518519, 0.98518519,\n",
       "        0.98518519, 0.97777778, 0.97777778, 0.97777778, 0.97777778,\n",
       "        0.96296296, 0.97037037, 0.95555556, 0.96296296, 0.96296296]),\n",
       " 'split7_train_score': array([1.        , 0.97777778, 0.95555556, 0.96296296, 0.96296296,\n",
       "        0.97037037, 0.97037037, 0.97777778, 0.97037037, 0.97777778,\n",
       "        0.97777778, 0.97037037, 0.97037037, 0.97777778, 0.97777778,\n",
       "        0.97037037, 0.97777778, 0.97777778, 0.97777778, 0.97777778,\n",
       "        0.97777778, 0.97037037, 0.97777778, 0.97777778, 0.97777778,\n",
       "        0.97037037, 0.97037037, 0.96296296, 0.96296296, 0.95555556]),\n",
       " 'split8_train_score': array([1.        , 0.97777778, 0.95555556, 0.95555556, 0.96296296,\n",
       "        0.97037037, 0.97037037, 0.97777778, 0.97777778, 0.97777778,\n",
       "        0.97777778, 0.98518519, 0.97777778, 0.98518519, 0.98518519,\n",
       "        0.97777778, 0.97777778, 0.97777778, 0.97777778, 0.97777778,\n",
       "        0.97777778, 0.97037037, 0.97777778, 0.97037037, 0.97037037,\n",
       "        0.96296296, 0.97037037, 0.94814815, 0.95555556, 0.95555556]),\n",
       " 'split9_train_score': array([1.        , 0.97777778, 0.95555556, 0.97037037, 0.97037037,\n",
       "        0.97037037, 0.97777778, 0.97777778, 0.97777778, 0.96296296,\n",
       "        0.96296296, 0.96296296, 0.97777778, 0.97037037, 0.97777778,\n",
       "        0.96296296, 0.96296296, 0.95555556, 0.96296296, 0.94074074,\n",
       "        0.94814815, 0.94814815, 0.95555556, 0.95555556, 0.94814815,\n",
       "        0.94074074, 0.93333333, 0.93333333, 0.94074074, 0.94074074]),\n",
       " 'mean_train_score': array([1.        , 0.97851852, 0.96074074, 0.9637037 , 0.96888889,\n",
       "        0.97259259, 0.97333333, 0.97925926, 0.97925926, 0.9762963 ,\n",
       "        0.98      , 0.97851852, 0.98      , 0.97925926, 0.97925926,\n",
       "        0.97777778, 0.97777778, 0.97777778, 0.97777778, 0.97407407,\n",
       "        0.97555556, 0.97111111, 0.97333333, 0.97037037, 0.96962963,\n",
       "        0.96      , 0.96148148, 0.95481481, 0.95925926, 0.95259259]),\n",
       " 'std_train_score': array([0.        , 0.00518519, 0.00744435, 0.00698813, 0.00725775,\n",
       "        0.00814815, 0.00592593, 0.00645763, 0.00645763, 0.00645763,\n",
       "        0.00814815, 0.0084132 , 0.00578537, 0.00645763, 0.00296296,\n",
       "        0.00740741, 0.00573775, 0.00811441, 0.00573775, 0.01250514,\n",
       "        0.00996565, 0.01070876, 0.0075541 , 0.00993808, 0.01120944,\n",
       "        0.01373869, 0.0143635 , 0.01168869, 0.01007516, 0.006789  ])}"
      ]
     },
     "execution_count": 72,
     "metadata": {},
     "output_type": "execute_result"
    }
   ],
   "source": [
    "from sklearn.model_selection import GridSearchCV\n",
    "\n",
    "# read iris dataset \n",
    "iris = load_iris()\n",
    "\n",
    "# create X (features) and y (response)\n",
    "X = iris.data\n",
    "y = iris.target\n",
    "\n",
    "# defining parameter values to be searched\n",
    "k_range = range(1, 31)\n",
    "\n",
    "# create a parameter Grid (maps the parameter names to the values that should be searched)\n",
    "param_grid = dict(n_neighbors=k_range)\n",
    "\n",
    "# instantiate grid CV\n",
    "knn = KNeighborsClassifier()\n",
    "grid = GridSearchCV(knn, param_grid, cv=10, scoring='accuracy')\n",
    "\n",
    "# fit grid with data\n",
    "grid.fit(X, y)\n",
    "\n",
    "# view results (list of named tuples)\n",
    "grid.cv_results_\n"
   ]
  },
  {
   "cell_type": "code",
   "execution_count": 80,
   "metadata": {},
   "outputs": [],
   "source": [
    "# examine the test scores\n",
    "grid_mean_scores = grid.cv_results_['mean_test_score']"
   ]
  },
  {
   "cell_type": "code",
   "execution_count": 82,
   "metadata": {},
   "outputs": [
    {
     "data": {
      "text/plain": [
       "Text(0, 0.5, 'Cross-Validation Accuracy')"
      ]
     },
     "execution_count": 82,
     "metadata": {},
     "output_type": "execute_result"
    },
    {
     "data": {
      "image/png": "[encoded data removed]",
      "text/plain": [
       "<Figure size 432x288 with 1 Axes>"
      ]
     },
     "metadata": {
      "needs_background": "light"
     },
     "output_type": "display_data"
    }
   ],
   "source": [
    "# visualizing using matplotlib\n",
    "plt.plot(k_range, grid_mean_scores)\n",
    "plt.xlabel('Value of K for KNN')\n",
    "plt.ylabel('Cross-Validation Accuracy')"
   ]
  },
  {
   "cell_type": "code",
   "execution_count": 84,
   "metadata": {},
   "outputs": [
    {
     "name": "stdout",
     "output_type": "stream",
     "text": [
      "0.98\n",
      "{'n_neighbors': 13}\n",
      "KNeighborsClassifier(algorithm='auto', leaf_size=30, metric='minkowski',\n",
      "           metric_params=None, n_jobs=None, n_neighbors=13, p=2,\n",
      "           weights='uniform')\n"
     ]
    }
   ],
   "source": [
    "# examine the best model\n",
    "print(grid.best_score_)\n",
    "print(grid.best_params_)\n",
    "print(grid.best_estimator_)"
   ]
  },
  {
   "cell_type": "markdown",
   "metadata": {},
   "source": [
    "## Searching Multiple Parameters Simulataneously\n",
    "\n",
    "Tunign k and weights (which controls how knn parameters are weighted when making prediction, default is equal weight, distance weights closer neighbors more heavily than distant neighbors)"
   ]
  },
  {
   "cell_type": "code",
   "execution_count": 89,
   "metadata": {},
   "outputs": [
    {
     "name": "stdout",
     "output_type": "stream",
     "text": [
      "0.98\n",
      "{'n_neighbors': 13, 'weights': 'uniform'}\n"
     ]
    }
   ],
   "source": [
    "# define paramter values that should be searched\n",
    "k_range = range(1, 31)\n",
    "weight_options = ['uniform', 'distance']\n",
    "\n",
    "# create a parameter grid \n",
    "param_grid = dict(n_neighbors=k_range, weights=weight_options)\n",
    "\n",
    "# instantiate and fit grid\n",
    "grid = GridSearchCV(knn, param_grid, cv=10, scoring='accuracy')\n",
    "grid.fit(X, y)\n",
    "\n",
    "# examine best model\n",
    "print(grid.best_score_)\n",
    "print(grid.best_params_)"
   ]
  },
  {
   "cell_type": "markdown",
   "metadata": {},
   "source": [
    "## Using Best Parameters To Make Predictions"
   ]
  },
  {
   "cell_type": "code",
   "execution_count": 95,
   "metadata": {},
   "outputs": [
    {
     "name": "stdout",
     "output_type": "stream",
     "text": [
      "[1]\n"
     ]
    },
    {
     "data": {
      "text/plain": [
       "array([1])"
      ]
     },
     "execution_count": 95,
     "metadata": {},
     "output_type": "execute_result"
    }
   ],
   "source": [
    "# train your model with best model parameters\n",
    "knn = KNeighborsClassifier(n_neighbors=13, weights='uniform')\n",
    "knn.fit(X, y)\n",
    "\n",
    "# make a prediction\n",
    "print(knn.predict([[3, 4, 5, 2]]))\n",
    "\n",
    "# using gridsearchcv shortcut\n",
    "grid.predict([[3, 4, 5, 2]])\n"
   ]
  },
  {
   "cell_type": "markdown",
   "metadata": {},
   "source": [
    "## Reducing Computational Expense Using RnadomizedSearchCV"
   ]
  },
  {
   "cell_type": "code",
   "execution_count": 99,
   "metadata": {},
   "outputs": [
    {
     "name": "stderr",
     "output_type": "stream",
     "text": [
      "/home/namrehs/anaconda3/lib/python3.6/site-packages/sklearn/utils/deprecation.py:125: FutureWarning: You are accessing a training score ('split0_train_score'), which will not be available by default any more in 0.21. If you need training scores, please set return_train_score=True\n",
      "  warnings.warn(*warn_args, **warn_kwargs)\n",
      "/home/namrehs/anaconda3/lib/python3.6/site-packages/sklearn/utils/deprecation.py:125: FutureWarning: You are accessing a training score ('split1_train_score'), which will not be available by default any more in 0.21. If you need training scores, please set return_train_score=True\n",
      "  warnings.warn(*warn_args, **warn_kwargs)\n",
      "/home/namrehs/anaconda3/lib/python3.6/site-packages/sklearn/utils/deprecation.py:125: FutureWarning: You are accessing a training score ('split2_train_score'), which will not be available by default any more in 0.21. If you need training scores, please set return_train_score=True\n",
      "  warnings.warn(*warn_args, **warn_kwargs)\n",
      "/home/namrehs/anaconda3/lib/python3.6/site-packages/sklearn/utils/deprecation.py:125: FutureWarning: You are accessing a training score ('split3_train_score'), which will not be available by default any more in 0.21. If you need training scores, please set return_train_score=True\n",
      "  warnings.warn(*warn_args, **warn_kwargs)\n",
      "/home/namrehs/anaconda3/lib/python3.6/site-packages/sklearn/utils/deprecation.py:125: FutureWarning: You are accessing a training score ('split4_train_score'), which will not be available by default any more in 0.21. If you need training scores, please set return_train_score=True\n",
      "  warnings.warn(*warn_args, **warn_kwargs)\n",
      "/home/namrehs/anaconda3/lib/python3.6/site-packages/sklearn/utils/deprecation.py:125: FutureWarning: You are accessing a training score ('split5_train_score'), which will not be available by default any more in 0.21. If you need training scores, please set return_train_score=True\n",
      "  warnings.warn(*warn_args, **warn_kwargs)\n",
      "/home/namrehs/anaconda3/lib/python3.6/site-packages/sklearn/utils/deprecation.py:125: FutureWarning: You are accessing a training score ('split6_train_score'), which will not be available by default any more in 0.21. If you need training scores, please set return_train_score=True\n",
      "  warnings.warn(*warn_args, **warn_kwargs)\n",
      "/home/namrehs/anaconda3/lib/python3.6/site-packages/sklearn/utils/deprecation.py:125: FutureWarning: You are accessing a training score ('split7_train_score'), which will not be available by default any more in 0.21. If you need training scores, please set return_train_score=True\n",
      "  warnings.warn(*warn_args, **warn_kwargs)\n",
      "/home/namrehs/anaconda3/lib/python3.6/site-packages/sklearn/utils/deprecation.py:125: FutureWarning: You are accessing a training score ('split8_train_score'), which will not be available by default any more in 0.21. If you need training scores, please set return_train_score=True\n",
      "  warnings.warn(*warn_args, **warn_kwargs)\n",
      "/home/namrehs/anaconda3/lib/python3.6/site-packages/sklearn/utils/deprecation.py:125: FutureWarning: You are accessing a training score ('split9_train_score'), which will not be available by default any more in 0.21. If you need training scores, please set return_train_score=True\n",
      "  warnings.warn(*warn_args, **warn_kwargs)\n",
      "/home/namrehs/anaconda3/lib/python3.6/site-packages/sklearn/utils/deprecation.py:125: FutureWarning: You are accessing a training score ('mean_train_score'), which will not be available by default any more in 0.21. If you need training scores, please set return_train_score=True\n",
      "  warnings.warn(*warn_args, **warn_kwargs)\n",
      "/home/namrehs/anaconda3/lib/python3.6/site-packages/sklearn/utils/deprecation.py:125: FutureWarning: You are accessing a training score ('std_train_score'), which will not be available by default any more in 0.21. If you need training scores, please set return_train_score=True\n",
      "  warnings.warn(*warn_args, **warn_kwargs)\n"
     ]
    },
    {
     "data": {
      "text/plain": [
       "{'mean_fit_time': array([0.00051022, 0.00033355, 0.0002852 , 0.00028579, 0.0002841 ,\n",
       "        0.00028059, 0.00028038, 0.00028002, 0.00027807, 0.00029225]),\n",
       " 'std_fit_time': array([2.58471428e-04, 3.38436832e-05, 8.23687022e-06, 6.20076261e-06,\n",
       "        1.17495617e-05, 5.51097725e-06, 5.69715650e-06, 3.90926504e-06,\n",
       "        1.97196812e-06, 3.00841925e-05]),\n",
       " 'mean_score_time': array([0.00099616, 0.00103767, 0.00089636, 0.0008873 , 0.0008894 ,\n",
       "        0.00055032, 0.00056722, 0.00086272, 0.00055323, 0.00087657]),\n",
       " 'std_score_time': array([4.61431881e-04, 1.01908147e-04, 8.01585956e-05, 1.54719514e-05,\n",
       "        1.79784683e-05, 6.11096166e-06, 3.56903933e-06, 1.46828877e-05,\n",
       "        1.31589778e-05, 2.62782704e-05]),\n",
       " 'param_weights': masked_array(data=['distance', 'uniform', 'uniform', 'uniform', 'uniform',\n",
       "                    'distance', 'distance', 'uniform', 'distance',\n",
       "                    'uniform'],\n",
       "              mask=[False, False, False, False, False, False, False, False,\n",
       "                    False, False],\n",
       "        fill_value='?',\n",
       "             dtype=object),\n",
       " 'param_n_neighbors': masked_array(data=[16, 22, 18, 27, 29, 10, 22, 14, 12, 15],\n",
       "              mask=[False, False, False, False, False, False, False, False,\n",
       "                    False, False],\n",
       "        fill_value='?',\n",
       "             dtype=object),\n",
       " 'params': [{'weights': 'distance', 'n_neighbors': 16},\n",
       "  {'weights': 'uniform', 'n_neighbors': 22},\n",
       "  {'weights': 'uniform', 'n_neighbors': 18},\n",
       "  {'weights': 'uniform', 'n_neighbors': 27},\n",
       "  {'weights': 'uniform', 'n_neighbors': 29},\n",
       "  {'weights': 'distance', 'n_neighbors': 10},\n",
       "  {'weights': 'distance', 'n_neighbors': 22},\n",
       "  {'weights': 'uniform', 'n_neighbors': 14},\n",
       "  {'weights': 'distance', 'n_neighbors': 12},\n",
       "  {'weights': 'uniform', 'n_neighbors': 15}],\n",
       " 'split0_test_score': array([1.        , 0.93333333, 1.        , 0.93333333, 0.93333333,\n",
       "        1.        , 1.        , 1.        , 1.        , 0.93333333]),\n",
       " 'split1_test_score': array([0.93333333, 0.93333333, 0.93333333, 0.93333333, 0.93333333,\n",
       "        0.93333333, 0.93333333, 0.93333333, 0.93333333, 0.93333333]),\n",
       " 'split2_test_score': array([1., 1., 1., 1., 1., 1., 1., 1., 1., 1.]),\n",
       " 'split3_test_score': array([1.        , 1.        , 1.        , 1.        , 0.93333333,\n",
       "        1.        , 1.        , 1.        , 1.        , 1.        ]),\n",
       " 'split4_test_score': array([0.93333333, 1.        , 1.        , 1.        , 1.        ,\n",
       "        0.93333333, 0.86666667, 1.        , 0.86666667, 1.        ]),\n",
       " 'split5_test_score': array([0.93333333, 0.93333333, 0.93333333, 0.86666667, 0.86666667,\n",
       "        0.93333333, 0.93333333, 0.86666667, 1.        , 0.93333333]),\n",
       " 'split6_test_score': array([0.93333333, 0.93333333, 0.93333333, 0.93333333, 0.93333333,\n",
       "        0.93333333, 0.93333333, 0.93333333, 0.93333333, 0.93333333]),\n",
       " 'split7_test_score': array([1.        , 0.93333333, 1.        , 1.        , 0.93333333,\n",
       "        1.        , 1.        , 1.        , 1.        , 1.        ]),\n",
       " 'split8_test_score': array([1., 1., 1., 1., 1., 1., 1., 1., 1., 1.]),\n",
       " 'split9_test_score': array([1., 1., 1., 1., 1., 1., 1., 1., 1., 1.]),\n",
       " 'mean_test_score': array([0.97333333, 0.96666667, 0.98      , 0.96666667, 0.95333333,\n",
       "        0.97333333, 0.96666667, 0.97333333, 0.97333333, 0.97333333]),\n",
       " 'std_test_score': array([0.03265986, 0.03333333, 0.0305505 , 0.04472136, 0.04268749,\n",
       "        0.03265986, 0.04472136, 0.04422166, 0.04422166, 0.03265986]),\n",
       " 'rank_test_score': array([ 2,  7,  1,  7, 10,  2,  7,  2,  2,  2], dtype=int32),\n",
       " 'split0_train_score': array([1.        , 0.97777778, 0.97777778, 0.96296296, 0.95555556,\n",
       "        1.        , 1.        , 0.97037037, 1.        , 0.97777778]),\n",
       " 'split1_train_score': array([1.        , 0.98518519, 0.98518519, 0.97777778, 0.97777778,\n",
       "        1.        , 1.        , 0.97777778, 1.        , 0.97777778]),\n",
       " 'split2_train_score': array([1.        , 0.95555556, 0.97777778, 0.94074074, 0.95555556,\n",
       "        1.        , 1.        , 0.98518519, 1.        , 0.97777778]),\n",
       " 'split3_train_score': array([1.        , 0.97777778, 0.97777778, 0.97037037, 0.97037037,\n",
       "        1.        , 1.        , 0.97777778, 1.        , 0.97777778]),\n",
       " 'split4_train_score': array([1.        , 0.97037037, 0.97777778, 0.94814815, 0.94814815,\n",
       "        1.        , 1.        , 0.97777778, 1.        , 0.97777778]),\n",
       " 'split5_train_score': array([1.        , 0.97777778, 0.98518519, 0.97037037, 0.96296296,\n",
       "        1.        , 1.        , 0.97777778, 1.        , 0.97777778]),\n",
       " 'split6_train_score': array([1.        , 0.97777778, 0.98518519, 0.97037037, 0.96296296,\n",
       "        1.        , 1.        , 0.99259259, 1.        , 0.98518519]),\n",
       " 'split7_train_score': array([1.        , 0.97037037, 0.97777778, 0.97037037, 0.96296296,\n",
       "        1.        , 1.        , 0.97777778, 1.        , 0.97777778]),\n",
       " 'split8_train_score': array([1.        , 0.97037037, 0.97777778, 0.97037037, 0.95555556,\n",
       "        1.        , 1.        , 0.98518519, 1.        , 0.98518519]),\n",
       " 'split9_train_score': array([1.        , 0.94814815, 0.95555556, 0.93333333, 0.94074074,\n",
       "        1.        , 1.        , 0.97037037, 1.        , 0.97777778]),\n",
       " 'mean_train_score': array([1.        , 0.97111111, 0.97777778, 0.96148148, 0.95925926,\n",
       "        1.        , 1.        , 0.97925926, 1.        , 0.97925926]),\n",
       " 'std_train_score': array([0.        , 0.01070876, 0.00811441, 0.0143635 , 0.01007516,\n",
       "        0.        , 0.        , 0.00645763, 0.        , 0.00296296])}"
      ]
     },
     "execution_count": 99,
     "metadata": {},
     "output_type": "execute_result"
    }
   ],
   "source": [
    "from sklearn.model_selection import RandomizedSearchCV\n",
    "\n",
    "# specify parameter distribution\n",
    "param_dist = dict(n_neighbors=k_range, weights=weight_options)\n",
    "\n",
    "# instatiate RandomizedSearchCV. N_iter controls no of searches\n",
    "rand = RandomizedSearchCV(knn, param_dist, cv=10, scoring='accuracy', n_iter=10, random_state=5)\n",
    "\n",
    "# fit\n",
    "rand.fit(X, y)\n",
    "rand.cv_results_"
   ]
  },
  {
   "cell_type": "code",
   "execution_count": 100,
   "metadata": {},
   "outputs": [
    {
     "name": "stdout",
     "output_type": "stream",
     "text": [
      "0.98\n",
      "{'weights': 'uniform', 'n_neighbors': 18}\n"
     ]
    }
   ],
   "source": [
    "# print out best model\n",
    "print(rand.best_score_)\n",
    "print(rand.best_params_)"
   ]
  },
  {
   "cell_type": "code",
   "execution_count": null,
   "metadata": {},
   "outputs": [],
   "source": []
  }
 ],
 "metadata": {
  "kernelspec": {
   "display_name": "Python 3",
   "language": "python",
   "name": "python3"
  },
  "language_info": {
   "codemirror_mode": {
    "name": "ipython",
    "version": 3
   },
   "file_extension": ".py",
   "mimetype": "text/x-python",
   "name": "python",
   "nbconvert_exporter": "python",
   "pygments_lexer": "ipython3",
   "version": "3.6.8"
  }
 },
 "nbformat": 4,
 "nbformat_minor": 2
}
